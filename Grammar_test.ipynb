{
 "cells": [
  {
   "cell_type": "code",
   "execution_count": 1,
   "id": "a0bba317-d752-4f3d-a3e5-8951b7f045f3",
   "metadata": {},
   "outputs": [],
   "source": [
    "import language_tool_python"
   ]
  },
  {
   "cell_type": "code",
   "execution_count": 2,
   "id": "33790e77-eeb7-4a1f-a21c-d5320b0106bd",
   "metadata": {},
   "outputs": [],
   "source": [
    "def grammar_check(text):\n",
    "    # Create a LanguageTool instance\n",
    "    tool = language_tool_python.LanguageTool('en-US')\n",
    "    \n",
    "    # Check the text for grammar errors\n",
    "    matches = tool.check(text)\n",
    "    \n",
    "    # Print the matches (grammar errors)\n",
    "    for match in matches:\n",
    "        print(\"Error:\", match.ruleId)\n",
    "        print(\"Message:\", match.message)\n",
    "        print(\"Suggestions:\", match.replacements)\n",
    "        print(\"-----------\")"
   ]
  },
  {
   "cell_type": "code",
   "execution_count": 3,
   "id": "75323261-8d36-47be-99c3-600cf947b5ec",
   "metadata": {},
   "outputs": [
    {
     "name": "stdout",
     "output_type": "stream",
     "text": [
      "Error: PERS_PRONOUN_AGREEMENT\n",
      "Message: Did you mean “am” or “will be”?\n",
      "Suggestions: ['am', 'will be']\n",
      "-----------\n",
      "Error: NON3PRS_VERB\n",
      "Message: The pronoun ‘I’ must be used with a non-third-person form of a verb.\n",
      "Suggestions: ['have']\n",
      "-----------\n"
     ]
    }
   ],
   "source": [
    "# Input text to be checked for grammar errors\n",
    "input_text = \"I is a student and I has many books.\"\n",
    "\n",
    "# Perform grammar check\n",
    "grammar_check(input_text)"
   ]
  },
  {
   "cell_type": "code",
   "execution_count": 4,
   "id": "7c66e6e7-8ffa-4c8f-a34b-376925784819",
   "metadata": {},
   "outputs": [],
   "source": [
    "# Input text to be checked for grammar errors\n",
    "input_text = \"I am a student and I have many books.\"\n",
    "\n",
    "# Perform grammar check\n",
    "grammar_check(input_text)"
   ]
  },
  {
   "cell_type": "code",
   "execution_count": 5,
   "id": "aeab2bd7-fb91-4b0e-970e-b1e9625e64db",
   "metadata": {},
   "outputs": [],
   "source": [
    "# Create a LanguageTool instance\n",
    "tool = language_tool_python.LanguageTool('en-US')\n",
    "\n",
    "# Check the text for grammar errors\n",
    "matches = tool.check(\"I is a student and I has many books.\")"
   ]
  },
  {
   "cell_type": "code",
   "execution_count": 6,
   "id": "831d1638-3fc5-4017-97ae-c14e9d19f692",
   "metadata": {},
   "outputs": [
    {
     "name": "stdout",
     "output_type": "stream",
     "text": [
      "[Match({'ruleId': 'PERS_PRONOUN_AGREEMENT', 'message': 'Did you mean “am” or “will be”?', 'replacements': ['am', 'will be'], 'offsetInContext': 2, 'context': 'I is a student and I has many books.', 'offset': 2, 'errorLength': 2, 'category': 'GRAMMAR', 'ruleIssueType': 'grammar', 'sentence': 'I is a student and I has many books.'}), Match({'ruleId': 'NON3PRS_VERB', 'message': 'The pronoun ‘I’ must be used with a non-third-person form of a verb.', 'replacements': ['have'], 'offsetInContext': 21, 'context': 'I is a student and I has many books.', 'offset': 21, 'errorLength': 3, 'category': 'GRAMMAR', 'ruleIssueType': 'grammar', 'sentence': 'I is a student and I has many books.'})]\n"
     ]
    }
   ],
   "source": [
    "print(matches)"
   ]
  },
  {
   "cell_type": "code",
   "execution_count": 7,
   "id": "d653900c-0bb7-427f-9bbe-94ae7aaa7b32",
   "metadata": {},
   "outputs": [
    {
     "name": "stdout",
     "output_type": "stream",
     "text": [
      "Offset 2, length 2, Rule ID: PERS_PRONOUN_AGREEMENT\n",
      "Message: Did you mean “am” or “will be”?\n",
      "Suggestion: am; will be\n",
      "I is a student and I has many books.\n",
      "  ^^\n"
     ]
    }
   ],
   "source": [
    "print(matches[0])"
   ]
  },
  {
   "cell_type": "code",
   "execution_count": 8,
   "id": "aae23795-9943-4970-b39e-734ea4f36c71",
   "metadata": {},
   "outputs": [
    {
     "name": "stdout",
     "output_type": "stream",
     "text": [
      "Error: PERS_PRONOUN_AGREEMENT\n",
      "Message: Did you mean “am” or “will be”?\n",
      "Suggestions: ['am', 'will be']\n",
      "-----------\n",
      "Error: NON3PRS_VERB\n",
      "Message: The pronoun ‘I’ must be used with a non-third-person form of a verb.\n",
      "Suggestions: ['have']\n",
      "-----------\n"
     ]
    }
   ],
   "source": [
    "for match in matches:\n",
    "    print(\"Error:\", match.ruleId)\n",
    "    print(\"Message:\", match.message)\n",
    "    print(\"Suggestions:\", match.replacements)\n",
    "    print(\"-----------\")"
   ]
  },
  {
   "cell_type": "code",
   "execution_count": null,
   "id": "43983a29-8013-4fe2-9c91-8d48b84d9eed",
   "metadata": {},
   "outputs": [],
   "source": []
  }
 ],
 "metadata": {
  "kernelspec": {
   "display_name": "Python 3 (ipykernel)",
   "language": "python",
   "name": "python3"
  },
  "language_info": {
   "codemirror_mode": {
    "name": "ipython",
    "version": 3
   },
   "file_extension": ".py",
   "mimetype": "text/x-python",
   "name": "python",
   "nbconvert_exporter": "python",
   "pygments_lexer": "ipython3",
   "version": "3.11.4"
  }
 },
 "nbformat": 4,
 "nbformat_minor": 5
}
