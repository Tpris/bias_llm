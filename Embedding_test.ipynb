{
 "cells": [
  {
   "cell_type": "code",
   "execution_count": 1,
   "id": "4f1e7348-e07c-42ca-813b-c256003820f8",
   "metadata": {},
   "outputs": [],
   "source": [
    "from langchain_community.embeddings import HuggingFaceEmbeddings\n",
    "from langchain.evaluation import load_evaluator\n",
    "import torch\n",
    "import numpy as np\n",
    "import pandas as pd\n",
    "import matplotlib.pyplot as plt\n",
    "device = torch.device(\"cuda:0\" if torch.cuda.is_available() else \"cpu\")"
   ]
  },
  {
   "cell_type": "code",
   "execution_count": 2,
   "id": "c4d3e3a4-c71f-4c65-b9b6-eda46a4735ba",
   "metadata": {},
   "outputs": [
    {
     "name": "stderr",
     "output_type": "stream",
     "text": [
      "/home/prtissot/Documents/IA/ENV/lib/python3.11/site-packages/tqdm/auto.py:21: TqdmWarning: IProgress not found. Please update jupyter and ipywidgets. See https://ipywidgets.readthedocs.io/en/stable/user_install.html\n",
      "  from .autonotebook import tqdm as notebook_tqdm\n"
     ]
    }
   ],
   "source": [
    "model_kwargs = {'device': device}\n",
    "encode_kwargs = {'normalize_embeddings': False}\n",
    "embedding_model = HuggingFaceEmbeddings(\n",
    "                model_kwargs=model_kwargs,\n",
    "                encode_kwargs=encode_kwargs\n",
    "                )"
   ]
  },
  {
   "cell_type": "code",
   "execution_count": 3,
   "id": "6e80131c-36d3-4f2b-ba7c-66c44820c682",
   "metadata": {},
   "outputs": [],
   "source": [
    "hf_evaluator = load_evaluator(\"embedding_distance\", embeddings=embedding_model)"
   ]
  },
  {
   "cell_type": "code",
   "execution_count": 4,
   "id": "5eef3fff-6de2-4e53-8b9d-3c0cdcb80909",
   "metadata": {},
   "outputs": [
    {
     "data": {
      "text/plain": [
       "{'score': 0.5486450034237688}"
      ]
     },
     "execution_count": 4,
     "metadata": {},
     "output_type": "execute_result"
    }
   ],
   "source": [
    "hf_evaluator.evaluate_strings(prediction=\"I shall go\", reference=\"I shan't go\")"
   ]
  },
  {
   "cell_type": "code",
   "execution_count": 5,
   "id": "3e35c41f-ec55-4a03-85d4-8f08485db375",
   "metadata": {},
   "outputs": [
    {
     "data": {
      "text/plain": [
       "{'score': 0.21018882859314625}"
      ]
     },
     "execution_count": 5,
     "metadata": {},
     "output_type": "execute_result"
    }
   ],
   "source": [
    "hf_evaluator.evaluate_strings(prediction=\"I shall go\", reference=\"I will go\")"
   ]
  },
  {
   "cell_type": "markdown",
   "id": "2bf7e41f-dd7d-4fd2-94cf-2a4feabacac7",
   "metadata": {},
   "source": [
    "## Plot words embedding"
   ]
  },
  {
   "cell_type": "code",
   "execution_count": 6,
   "id": "4d026099-4d40-4686-a120-438e8b528c2d",
   "metadata": {},
   "outputs": [],
   "source": [
    "tokens = [\"roi\", \"reine\", \"homme\", \"femme\"]"
   ]
  },
  {
   "cell_type": "code",
   "execution_count": 7,
   "id": "a1354d1c-3cc4-49c5-a433-7d22e78aab3a",
   "metadata": {},
   "outputs": [],
   "source": [
    "emb = np.array(embedding_model.embed_documents(tokens))"
   ]
  },
  {
   "cell_type": "code",
   "execution_count": 8,
   "id": "b479e989-ae91-4972-bf4c-6c610ce76a15",
   "metadata": {},
   "outputs": [
    {
     "name": "stdout",
     "output_type": "stream",
     "text": [
      "(4, 768)\n"
     ]
    }
   ],
   "source": [
    "print(emb.shape)"
   ]
  },
  {
   "cell_type": "code",
   "execution_count": 41,
   "id": "f19e1170-3406-4e58-b920-eb4476f525de",
   "metadata": {},
   "outputs": [],
   "source": [
    "from sklearn.manifold import TSNE\n",
    "tsne = TSNE(init='random',random_state = 0, n_iter = 1000, metric = 'cosine', perplexity=3.0)"
   ]
  },
  {
   "cell_type": "code",
   "execution_count": 42,
   "id": "56e9bafd-38d9-4318-a5ed-e82bf9aa6ae2",
   "metadata": {},
   "outputs": [
    {
     "name": "stderr",
     "output_type": "stream",
     "text": [
      "/home/prtissot/Documents/IA/ENV/lib/python3.11/site-packages/sklearn/manifold/_t_sne.py:810: FutureWarning: The default learning rate in TSNE will change from 200.0 to 'auto' in 1.2.\n",
      "  warnings.warn(\n"
     ]
    }
   ],
   "source": [
    "embeddings2d = tsne.fit_transform(emb)"
   ]
  },
  {
   "cell_type": "code",
   "execution_count": 43,
   "id": "fed9dcec-60e1-43a8-8cbd-615d796a80d6",
   "metadata": {},
   "outputs": [
    {
     "data": {
      "text/html": [
       "<div>\n",
       "<style scoped>\n",
       "    .dataframe tbody tr th:only-of-type {\n",
       "        vertical-align: middle;\n",
       "    }\n",
       "\n",
       "    .dataframe tbody tr th {\n",
       "        vertical-align: top;\n",
       "    }\n",
       "\n",
       "    .dataframe thead th {\n",
       "        text-align: right;\n",
       "    }\n",
       "</style>\n",
       "<table border=\"1\" class=\"dataframe\">\n",
       "  <thead>\n",
       "    <tr style=\"text-align: right;\">\n",
       "      <th></th>\n",
       "      <th>token</th>\n",
       "      <th>x</th>\n",
       "      <th>y</th>\n",
       "    </tr>\n",
       "  </thead>\n",
       "  <tbody>\n",
       "    <tr>\n",
       "      <th>0</th>\n",
       "      <td>roi</td>\n",
       "      <td>-92.456215</td>\n",
       "      <td>-177.721359</td>\n",
       "    </tr>\n",
       "    <tr>\n",
       "      <th>1</th>\n",
       "      <td>reine</td>\n",
       "      <td>-65.745506</td>\n",
       "      <td>-112.304100</td>\n",
       "    </tr>\n",
       "    <tr>\n",
       "      <th>2</th>\n",
       "      <td>homme</td>\n",
       "      <td>-26.520746</td>\n",
       "      <td>-203.297653</td>\n",
       "    </tr>\n",
       "    <tr>\n",
       "      <th>3</th>\n",
       "      <td>femme</td>\n",
       "      <td>0.162008</td>\n",
       "      <td>-137.976151</td>\n",
       "    </tr>\n",
       "  </tbody>\n",
       "</table>\n",
       "</div>"
      ],
      "text/plain": [
       "   token          x           y\n",
       "0    roi -92.456215 -177.721359\n",
       "1  reine -65.745506 -112.304100\n",
       "2  homme -26.520746 -203.297653\n",
       "3  femme   0.162008 -137.976151"
      ]
     },
     "metadata": {},
     "output_type": "display_data"
    }
   ],
   "source": [
    "# Create DF\n",
    "embeddingsdf = pd.DataFrame()\n",
    "embeddingsdf['token'] = tokens\n",
    "embeddingsdf['x'] = embeddings2d[:,0]\n",
    "embeddingsdf['y'] = embeddings2d[:,1]\n",
    "display(embeddingsdf)"
   ]
  },
  {
   "cell_type": "code",
   "execution_count": 44,
   "id": "28f13ef9-52fc-4e58-b9a9-ebc0e8f1fe9e",
   "metadata": {},
   "outputs": [
    {
     "data": {
      "image/png": "[encoded data removed]",
      "text/plain": [
       "<Figure size 1000x800 with 1 Axes>"
      ]
     },
     "metadata": {},
     "output_type": "display_data"
    }
   ],
   "source": [
    "# Set figsize\n",
    "fig, ax = plt.subplots(figsize=(10,8))# Scatter points, set alpha low to make points translucent\n",
    "ax.scatter(embeddingsdf.x, embeddingsdf.y, alpha=.5)\n",
    "\n",
    "for i, txt in enumerate(tokens):\n",
    "    ax.annotate(txt, (embeddingsdf.x[i], embeddingsdf.y[i]))\n",
    "\n",
    "plt.title('Scatter plot of tokens using t-SNE')\n",
    "plt.show()"
   ]
  },
  {
   "cell_type": "code",
   "execution_count": null,
   "id": "4112755e-7000-46b2-b771-4768754137b6",
   "metadata": {},
   "outputs": [],
   "source": []
  }
 ],
 "metadata": {
  "kernelspec": {
   "display_name": "Python 3 (ipykernel)",
   "language": "python",
   "name": "python3"
  },
  "language_info": {
   "codemirror_mode": {
    "name": "ipython",
    "version": 3
   },
   "file_extension": ".py",
   "mimetype": "text/x-python",
   "name": "python",
   "nbconvert_exporter": "python",
   "pygments_lexer": "ipython3",
   "version": "3.11.4"
  }
 },
 "nbformat": 4,
 "nbformat_minor": 5
}
