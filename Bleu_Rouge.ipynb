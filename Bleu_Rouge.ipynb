{
 "cells": [
  {
   "cell_type": "markdown",
   "id": "42904411-84ef-4671-8897-d85945265ba5",
   "metadata": {},
   "source": [
    "Bleu et rouge:  \n",
    "https://medium.com/@sthanikamsanthosh1994/understanding-bleu-and-rouge-score-for-nlp-evaluation-1ab334ecadcb  \n",
    "Bleu :   \n",
    "https://mastertsmlille.wordpress.com/2019/12/09/bleu-un-algorithme-qui-calcule-la-qualite-des-traductions-machine/  \n",
    "Rouge :  \n",
    "https://medium.com/nlplanet/two-minutes-nlp-learn-the-rouge-metric-by-examples-f179cc285499\n"
   ]
  },
  {
   "cell_type": "code",
   "execution_count": 23,
   "id": "3a748545-2df5-4ef5-8760-4642064a0c0b",
   "metadata": {},
   "outputs": [],
   "source": [
    "import evaluate, math\n",
    "import numpy as np\n",
    "import time"
   ]
  },
  {
   "cell_type": "code",
   "execution_count": 28,
   "id": "9fba739d-48ce-4d0b-8e5c-b06edd8e998b",
   "metadata": {},
   "outputs": [],
   "source": [
    "predictions = [\"1hello here 1general 1kenobi\"]\n",
    "references = [\"hello there general kenobi\"]"
   ]
  },
  {
   "cell_type": "markdown",
   "id": "d6d4cc0e-f359-4b4b-bf0e-c2f0afd72307",
   "metadata": {},
   "source": [
    "## Rouge"
   ]
  },
  {
   "cell_type": "code",
   "execution_count": 29,
   "id": "5f8e21a2-4c93-446a-ac70-a40c997e61cd",
   "metadata": {},
   "outputs": [
    {
     "name": "stdout",
     "output_type": "stream",
     "text": [
      "{'rouge1': 0.0, 'rouge2': 0.0, 'rougeL': 0.0, 'rougeLsum': 0.0}\n"
     ]
    }
   ],
   "source": [
    "rouge = evaluate.load('rouge')\n",
    "results = rouge.compute(predictions=predictions, references=references)\n",
    "print(results)"
   ]
  },
  {
   "cell_type": "markdown",
   "id": "dbb43328-69a7-479c-a1df-59f67c667cde",
   "metadata": {},
   "source": [
    "## Bleu"
   ]
  },
  {
   "cell_type": "code",
   "execution_count": 31,
   "id": "f5160c05-a967-4fba-9bca-a2a6006d78c3",
   "metadata": {},
   "outputs": [
    {
     "name": "stdout",
     "output_type": "stream",
     "text": [
      "{'bleu': 0.0, 'precisions': [0.0, 0.0, 0.0, 0.0], 'brevity_penalty': 1.0, 'length_ratio': 1.0, 'translation_length': 4, 'reference_length': 4}\n",
      "[]\n",
      "1.0\n",
      "0.00018715858459472656\n"
     ]
    }
   ],
   "source": [
    "bleu = evaluate.load(\"bleu\")\n",
    "results = bleu.compute(predictions=predictions, references=references)\n",
    "print(results)\n",
    "begin = time.time()\n",
    "pn = [math.log(p) for p in results['precisions'] if p>0]\n",
    "print(pn)\n",
    "print(math.exp(sum(pn)/len(results['precisions'])) * results['brevity_penalty'])\n",
    "print(time.time()-begin)"
   ]
  },
  {
   "cell_type": "code",
   "execution_count": 5,
   "id": "aa0b18b8-a367-4a90-82c3-7570e48649b4",
   "metadata": {},
   "outputs": [],
   "source": [
    "predictions = [[\"The quick brown fox jumped over the lazy dog\"], \n",
    "               [\"The fast brown fox jumped over the lazy dog\"],\n",
    "               [\"The fast brown fox jumped over the sleepy dog\"]]\n",
    "references = [\"The quick brown fox jumped over the lazy dog\"]"
   ]
  },
  {
   "cell_type": "code",
   "execution_count": 6,
   "id": "3f97a96e-0602-4345-9c06-d9cbd776872a",
   "metadata": {},
   "outputs": [
    {
     "name": "stdout",
     "output_type": "stream",
     "text": [
      "** The quick brown fox jumped over the lazy dog\n",
      "{'bleu': 1.0, 'precisions': [1.0, 1.0, 1.0, 1.0], 'brevity_penalty': 1.0, 'length_ratio': 1.0, 'translation_length': 9, 'reference_length': 9}\n",
      "1.0\n",
      "\n",
      "** The fast brown fox jumped over the lazy dog\n",
      "{'bleu': 0.7506238537503395, 'precisions': [0.8888888888888888, 0.75, 0.7142857142857143, 0.6666666666666666], 'brevity_penalty': 1.0, 'length_ratio': 1.0, 'translation_length': 9, 'reference_length': 9}\n",
      "0.7506238537503395\n",
      "\n",
      "** The fast brown fox jumped over the sleepy dog\n",
      "{'bleu': 0.48549177170732344, 'precisions': [0.7777777777777778, 0.5, 0.42857142857142855, 0.3333333333333333], 'brevity_penalty': 1.0, 'length_ratio': 1.0, 'translation_length': 9, 'reference_length': 9}\n",
      "0.48549177170732344\n",
      "\n"
     ]
    }
   ],
   "source": [
    "bleu = evaluate.load(\"bleu\")\n",
    "for i in range(3):\n",
    "    print('**',predictions[i][0])\n",
    "    results = bleu.compute(predictions=predictions[i], references=references)\n",
    "    print(results)\n",
    "    pn = [np.log(p) for p in results['precisions'] if p>0]\n",
    "    print(np.exp(sum(pn)/len(results['precisions'])) * results['brevity_penalty'])\n",
    "    print()"
   ]
  },
  {
   "cell_type": "code",
   "execution_count": 7,
   "id": "7e95d39e-9abf-43be-8e06-d798d3567027",
   "metadata": {},
   "outputs": [],
   "source": [
    "predictions = [[\"The quick brown\"], \n",
    "               [\"The fast brown\"]]\n",
    "references = [\"The quick brown\"]"
   ]
  },
  {
   "cell_type": "code",
   "execution_count": 8,
   "id": "bc2fcdd5-4119-47df-9df7-029f563b3d2f",
   "metadata": {},
   "outputs": [
    {
     "name": "stdout",
     "output_type": "stream",
     "text": [
      "** The quick brown\n",
      "{'bleu': 0.0, 'precisions': [1.0, 1.0, 1.0, 0.0], 'brevity_penalty': 1.0, 'length_ratio': 1.0, 'translation_length': 3, 'reference_length': 3}\n",
      "1.0\n",
      "\n",
      "** The fast brown\n",
      "{'bleu': 0.0, 'precisions': [0.6666666666666666, 0.0, 0.0, 0.0], 'brevity_penalty': 1.0, 'length_ratio': 1.0, 'translation_length': 3, 'reference_length': 3}\n",
      "0.9036020036098448\n",
      "\n"
     ]
    }
   ],
   "source": [
    "bleu = evaluate.load(\"bleu\")\n",
    "for i in range(2):\n",
    "    print('**',predictions[i][0])\n",
    "    results = bleu.compute(predictions=predictions[i], references=references)\n",
    "    print(results)\n",
    "    pn = [np.log(p) for p in results['precisions'] if p>0]\n",
    "    print(np.exp(sum(pn)/len(results['precisions'])) * results['brevity_penalty'])\n",
    "    print()"
   ]
  },
  {
   "cell_type": "code",
   "execution_count": 9,
   "id": "22a0166b-b775-4d44-b4cd-e54614a458fc",
   "metadata": {},
   "outputs": [
    {
     "name": "stdout",
     "output_type": "stream",
     "text": [
      "** The quick brown\n",
      "{'rouge1': 1.0, 'rouge2': 1.0, 'rougeL': 1.0, 'rougeLsum': 1.0}\n",
      "\n",
      "** The fast brown\n",
      "{'rouge1': 0.6666666666666666, 'rouge2': 0.0, 'rougeL': 0.6666666666666666, 'rougeLsum': 0.6666666666666666}\n",
      "\n"
     ]
    }
   ],
   "source": [
    "rouge = evaluate.load('rouge')\n",
    "for i in range(2):\n",
    "    print('**',predictions[i][0])\n",
    "    results = rouge.compute(predictions=predictions[i], references=references)\n",
    "    print(results)\n",
    "    print()"
   ]
  },
  {
   "cell_type": "markdown",
   "id": "21be2525-f717-4093-a0c9-ea69eb3c8bfc",
   "metadata": {},
   "source": [
    "## Rouge 2"
   ]
  },
  {
   "cell_type": "markdown",
   "id": "0a9febfb-65e4-4e20-a447-5442dae4c778",
   "metadata": {},
   "source": [
    "https://github.com/pltrdy/rouge"
   ]
  },
  {
   "cell_type": "code",
   "execution_count": 10,
   "id": "d9a61eaf-119e-41dc-8db0-3224f3c6809a",
   "metadata": {},
   "outputs": [],
   "source": [
    "from rouge import Rouge"
   ]
  },
  {
   "cell_type": "code",
   "execution_count": 11,
   "id": "b9674678-4c61-47ad-a941-32e5f50f64ff",
   "metadata": {},
   "outputs": [
    {
     "name": "stdout",
     "output_type": "stream",
     "text": [
      "[{'rouge-1': {'r': 0.6666666666666666, 'p': 0.6666666666666666, 'f': 0.6666666616666668}, 'rouge-2': {'r': 0.0, 'p': 0.0, 'f': 0.0}, 'rouge-l': {'r': 0.6666666666666666, 'p': 0.6666666666666666, 'f': 0.6666666616666668}}]\n"
     ]
    }
   ],
   "source": [
    "rouge = Rouge()\n",
    "scores = rouge.get_scores(predictions[1], references)\n",
    "print(scores)"
   ]
  },
  {
   "cell_type": "code",
   "execution_count": null,
   "id": "7d08acf1-0c81-49cb-bd4c-3bb47ffe7e50",
   "metadata": {},
   "outputs": [],
   "source": []
  }
 ],
 "metadata": {
  "kernelspec": {
   "display_name": "Python 3 (ipykernel)",
   "language": "python",
   "name": "python3"
  },
  "language_info": {
   "codemirror_mode": {
    "name": "ipython",
    "version": 3
   },
   "file_extension": ".py",
   "mimetype": "text/x-python",
   "name": "python",
   "nbconvert_exporter": "python",
   "pygments_lexer": "ipython3",
   "version": "3.11.4"
  }
 },
 "nbformat": 4,
 "nbformat_minor": 5
}
